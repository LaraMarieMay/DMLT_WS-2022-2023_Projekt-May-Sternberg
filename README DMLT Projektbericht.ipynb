{
 "cells": [
  {
   "cell_type": "markdown",
   "metadata": {},
   "source": [
    "# FH Aachen - Fachbereich Maschinenbau & Mechatronik"
   ]
  },
  {
   "cell_type": "markdown",
   "metadata": {},
   "source": [
    "## Abschlussprojekt WS 2022 / 2023"
   ]
  },
  {
   "cell_type": "markdown",
   "metadata": {},
   "source": [
    "### im Modul: 81307 - Datenmanagement & Leittechnik"
   ]
  },
  {
   "cell_type": "markdown",
   "metadata": {},
   "source": [
    "#### bei Prof. Dr. Ing. Stephan Kallweit"
   ]
  },
  {
   "cell_type": "markdown",
   "metadata": {},
   "source": [
    "#### am 07.03.2023"
   ]
  },
  {
   "cell_type": "markdown",
   "metadata": {},
   "source": [
    " "
   ]
  },
  {
   "cell_type": "markdown",
   "metadata": {},
   "source": [
    "vorgelegt von:"
   ]
  },
  {
   "cell_type": "markdown",
   "metadata": {},
   "source": [
    "##### Lara Marie May\n",
    "##### Matrikelnummer: 3138207 \n",
    "##### Mail: lara-marie.may@alumni.fh-aachen.de"
   ]
  },
  {
   "cell_type": "markdown",
   "metadata": {},
   "source": [
    "und"
   ]
  },
  {
   "cell_type": "markdown",
   "metadata": {},
   "source": [
    "##### Sonja Sternberg\n",
    "##### Matrikelnummer: 3141153\n",
    "##### Mail: sonja.sternberg@alumni.fh-aachen.de"
   ]
  },
  {
   "cell_type": "markdown",
   "metadata": {},
   "source": [
    "_______________________________________________________________________"
   ]
  },
  {
   "cell_type": "markdown",
   "metadata": {},
   "source": [
    "### Hinweise zur Verwendung der Programme"
   ]
  },
  {
   "cell_type": "markdown",
   "metadata": {},
   "source": [
    "Das vorliegende Projekt besteht aus verschiedenen Code-Elementen. Manche Code-Elemente müssen auf einem Mikrocontroller gespeichert werden, andere müssen in einem Jupyter-Notebook ausgeführt werden. Wofür die einzelnen Code-Elemente benötigt werden und wo sie ausgeführt werden, wird im Einzelnen untenstehend erläutert. In jedem Fall die ist Reihenfolge der Ausführung nicht von Bedeutung. Der Code ist so geschrieben, dass das Programm auf benötigte Daten wartet, ohne eine Fehlermeldung zu erzeugen."
   ]
  },
  {
   "cell_type": "markdown",
   "metadata": {},
   "source": [
    "### Einleitung"
   ]
  },
  {
   "cell_type": "markdown",
   "metadata": {},
   "source": [
    "Im Modul Datenmanagement und Leittechnik haben die Studierenden die Aufgabe, im Rahmen eines Projektes ein Programm zu schreiben, das auf der Programmiersprache Python basiert. Das Programm soll verschiedene Betriebszustände klassifizieren und damit die wesentlichen Aspekte der Prozessüberwachung abbilden. Ziel ist es, die in der Lehrveranstaltung erworbenen Kenntnisse der Prozesserfassung und -überwachung in der Praxis anzuwenden, um eine gegebene Problemstellung zu lösen. Im Mittelpunkt der diesjährigen Problemstellung steht eine Waschmaschine. Der geschriebene Code soll mindestens vier verschiedene Betriebszustände einer Waschmaschine klassifizieren können. Die erfassten Daten sollen auch außerhalb des Heim-Netzwerkes abgerufen werden können. Zudem sollen die Daten über ein grafisches User-Interface visualisiert werden."
   ]
  },
  {
   "cell_type": "markdown",
   "metadata": {},
   "source": [
    "Die Datenerfassung erfolgt über ein zuvor ausgeteiltes IoT-Kit. Darauf angeschlossen ist ein MPU 6050 Beschleunigungssensor, der die Vibrationen misst. Das Projekt wird an einer Waschmaschine von Bauknecht durchgeführt. Die Waschmaschine ist unter der Küchen-Arbeitsplatte eingeklemmt, sodass der Bewegungsspielraum der Maschine eingeschränkt ist und die Vibrationen somit leicht gedämpft werden."
   ]
  },
  {
   "cell_type": "markdown",
   "metadata": {},
   "source": [
    "Das betrachtete Waschprogramm hat eine Länge von 2 Stunden und 49 Minuten und beinhaltet die folgenden Vorgänge:\n",
    "* Wasser einspülen\n",
    "* Vorwäsche\n",
    "* Waschen\n",
    "* Schleudern\n",
    "* Stillstand\n",
    "\n",
    "Diese fünf Zustände sollen durch maschinelles Lernen erkannt werden."
   ]
  },
  {
   "cell_type": "markdown",
   "metadata": {},
   "source": [
    "### Programme auf dem Mikrocontroller"
   ]
  },
  {
   "cell_type": "markdown",
   "metadata": {},
   "source": [
    "Für die Erfassung der Vibrationsdaten muss zuerst der Mikrocontroller programmiert werden. Hierfür werden verschiedene Codes auf den Mikrocontroller gespielt. Die Datei 'boot.py' wird beim Start / beim Reset des Mikrocontrollers zuerst ausgeführt und lädt das eigentliche Programm in den Speicher. Die Dateien 'imu.py' und 'vector3d.py' machen XY. Sie stellen Hilfsdateien dar, die der Lagebestimmung dienen und wurden vorab zur Verfügung gestellt. Der eigentlich Programmcode befindet sich in 'main.py'.\n",
    "\n",
    "Der Programmcode gibt zu Beginn eine Liste aller aktuell auf auf dem Mikrocontroller geflashten Dateien aus. So kann eingesehen werden, ob alle benötigten Dateien zur Verfügung stehen. Anschließend stellt der Mikrocontroller eine Verbindung zum WLAN her und zieht die aktuelle Zeit aus dem Netzwerk. Im nächsten Schritt wird der I2C-Bus initialisiert, der den Beschleunigungssensor ansprechen soll. Mit der Initialisierung der Variablen und Funktionen, wird auch das Auslesen der Beschleunigungsdaten gestartet. Die aktuellen Beschleunigungswerte werden in allen drei Achsen, sprich in X-Richtung, in Y-Richtung und in Z-Richtung erfasst. Anschließend wird eine TCP-Verbindung mit der Server-Seite hergestellt. Der Mikrocontroller stellt dabei die Client-Seite der TCP-Kommunikation dar. Wenn die Verbindung hergestellt wurde, erfolgt die Übermittlung der Beschleunigungsdaten per TCP und es wird ein Timer gestartet.  Infolgedessen wird eine Callback-Funktion aufgerufen, die die Anzahl der Durchläufe zählt. Beim Erreichen eines Wertes von 200, wird der Counter auf null zurückgesetzt. Hat der Counter den Wert null, wird per TCP ein Zeitstempel mit der aktuellen Zeit gesendet. Das Programm stoppt automatisch, wenn die TCP-Verbindung von der Server-Seite abbricht.\n",
    "\n",
    "Der Mikrocontroller kann in einer Entwicklungsumgebung für Mikro-Python, wie zum Beispiel Thonny, programmiert werden."
   ]
  },
  {
   "cell_type": "markdown",
   "metadata": {},
   "source": [
    "#### Bestimmung der Abtastfrequenz:"
   ]
  },
  {
   "cell_type": "markdown",
   "metadata": {},
   "source": [
    "Die maximale Drehzahl der Waschmaschine n_max beträgt 1600 min-1. Die maximale Drehfrequenz der Waschmaschine f_max ergibt sich aus der folgenden Formel:\n",
    "\n",
    "f_max = (n_max [1/min])/(60 [s/min] )\n",
    "\n",
    "Nach einsetzen von n_max kann die maximale Drehfrequenz errechnet werden: (1600 [1/min])/(60 [s/min]) = 26,67 Hz\n",
    "\n",
    "Die maximale Drehfrequenz des Waschprogramms f_max beträgt dementsprechend 26,67 Hz. Um Aliasing zu verhindern, empfiehlt es sich mit einer Abtastrate zu arbeiten, die mindestens doppelt so hoch wie die höchste Frequenz ist. Das heißt, die Abtastfrequenz muss mindestens das doppelte der maximalen Drehfrequenz der Waschmaschine f_max, sprich 2 * 26,67 Hz = 53,34 Hz betragen. Um eine möglichst genaue Abtastung des Eingangssignals zu erreichen sowie der Einfachheit halber, wird im Projektverlauf mit einer Frequenz von 100 Hz abgetastet."
   ]
  },
  {
   "cell_type": "markdown",
   "metadata": {},
   "source": [
    "### Programme in Jupyter-Notebooks"
   ]
  },
  {
   "cell_type": "markdown",
   "metadata": {},
   "source": [
    "Parallel zu dem Main-Programm laufen zwei Programme in der Entwicklungsumgebung Jupyter. Ein Programm dient dem Empfang der Beschleunigungsdaten über TCP sowie dessen Verarbeitung. Mit dem anderen Programm werden die Daten in einem grafischen User-Interface visualisiert."
   ]
  },
  {
   "cell_type": "markdown",
   "metadata": {},
   "source": [
    "#### Datenempfang und Datenverarbeitung"
   ]
  },
  {
   "cell_type": "markdown",
   "metadata": {},
   "source": [
    "Mit dem ersten Programm wird die Serverseite für die TCP-Kommunikation eingerichtet, die vom Mikrocontroller gesendeten Daten empfangen, verarbeitet und schließlich in die Datenbank hochgeladen. Im ersten Schritt wird ein Socket erzeugt und darauf gewartet, dass der Mikrocontroller sich mit dem Server verbindet. Danach startet eine While-Schleife,in der die vom Mikrocontroller gesendeten Daten empfangen und entschlüsselt werden. Im nächsten Schritt werden die Daten gefiltert. Dabei wird geprüft, ob die Beschleunigungsdaten vollständig und im richtigen Format übermittelt wurden. Alle unvollständigen oder falsch dargestellten Datensätze werden hierbei gelöscht. Schließlich werden die Daten in die cloudbasierte Datenbank 'MongoDB Atlas' hochgeladen. Diese While-Schleife wird solange durchlaufen, bis das Programm manuell geschlossen wird."
   ]
  },
  {
   "cell_type": "markdown",
   "metadata": {},
   "source": [
    "#### Visualisierung im einer Benutzeroberfläche"
   ]
  },
  {
   "cell_type": "markdown",
   "metadata": {},
   "source": [
    "Mit dem zweiten Programm in Jupyter sollen die aufgenommenen Daten und der ermittelte Betriebszustand in einem grafischen User-Interface visualisiert werden. Beim Start des Programms wird ein Diagramm in einem Pop-up-Fenster erzeugt. In diesem Diagramm werden die aktuellsten 2.000 Datensätze dargestellt. So wird ein schneller Überblick über die Datenlage ermöglicht. Nach dem Schließen dieses Pop-up-Fensters wechselt die Benutzeroberfläche in den nächsten Modus. Dabei werden zwei Dialogfenster aktiv. Im ersten Dialogfenster werden wichtige Informationen und Statusmeldungen des Codes angezeigt. Im zweiten Dialogfenster werden weiterführende Informationen zu den erfassten Daten dargestellt. In einer Anzeige werden die zuletzt gemessenen Beschleunigungswerte dargestellt. Zudem wird ein Diagramm ausgegeben, das die letzten 500 Datensätze visuell abbildet. Die Benutzeroberfläche bietet zudem verschiedene Möglichkeiten, die Datenausgabe anzupassen. Der Nutzer kann die Datenmenge und den Informationsgehalt somit selber bestimmen. Nach Benutzung kann das Programm über einen Stop-Button unterbrochen werden."
   ]
  },
  {
   "cell_type": "markdown",
   "metadata": {},
   "source": [
    "#### Anwendung des maschinellen Lernens"
   ]
  },
  {
   "cell_type": "markdown",
   "metadata": {},
   "source": [
    "Bei der Anwendung des maschinellen Lernens werden zunächst fünf Zustände klassifiziert und trainiert:\n",
    "* Wasser einspülen\n",
    "* Vorwäsche\n",
    "* Waschen\n",
    "* Schleudern\n",
    "* Stillstand\n",
    "\n",
    "Dabei fällt auf, dass das Programm Schwierigkeiten hat, Waschen und Vorwäsche zu unterscheiden. Zusätzlich lässt sich das Spülen nicht eindeutig klassifizieren. Es ist anzunehmen, dass dieser Effekt durch die Platzierung der Waschmaschine unter der Arbeitsplatte verstärkt wird. Daher wurde entschieden, nur drei Klassen zu bilden und damit nur drei Zustände zu unterscheiden. Damit soll die Genauigkeit des Algorithmus erhöht werden.:\n",
    "* Waschen\n",
    "* Schleudern\n",
    "* Stillstand"
   ]
  },
  {
   "cell_type": "markdown",
   "metadata": {},
   "source": [
    " "
   ]
  }
 ],
 "metadata": {
  "kernelspec": {
   "display_name": "Python 3 (ipykernel)",
   "language": "python",
   "name": "python3"
  },
  "language_info": {
   "codemirror_mode": {
    "name": "ipython",
    "version": 3
   },
   "file_extension": ".py",
   "mimetype": "text/x-python",
   "name": "python",
   "nbconvert_exporter": "python",
   "pygments_lexer": "ipython3",
   "version": "3.9.7"
  }
 },
 "nbformat": 4,
 "nbformat_minor": 4
}
