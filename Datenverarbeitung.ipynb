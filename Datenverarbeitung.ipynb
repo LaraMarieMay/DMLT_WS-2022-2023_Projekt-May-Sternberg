{
  "cells": [
    {
      "cell_type": "markdown",
      "id": "d4e9e175",
      "metadata": {},
      "source": [
        "## Datenempfang und Datenverarbeitung"
      ]
    },
    {
      "cell_type": "code",
      "execution_count": 2,
      "id": "e3a1a5c9",
      "metadata": {
        "trusted": true
      },
      "outputs": [],
      "source": [
        "#pip install pymongo"
      ]
    },
    {
      "cell_type": "code",
      "execution_count": 4,
      "id": "006c21c3",
      "metadata": {
        "trusted": true
      },
      "outputs": [
        {
          "ename": "<class 'NameError'>",
          "evalue": "name 'MongoClient' is not defined",
          "output_type": "error",
          "traceback": [
            "\u001b[0;31m---------------------------------------------------------------------------\u001b[0m",
            "\u001b[0;31mNameError\u001b[0m                                 Traceback (most recent call last)",
            "Cell \u001b[0;32mIn[4], line 14\u001b[0m\n\u001b[1;32m     11\u001b[0m data_list \u001b[38;5;241m=\u001b[39m []\n\u001b[1;32m     13\u001b[0m \u001b[38;5;66;03m# Für Datenübertragung TCP server und Mongo DB initialisieren\u001b[39;00m\n\u001b[0;32m---> 14\u001b[0m client \u001b[38;5;241m=\u001b[39m \u001b[43mMongoClient\u001b[49m(\u001b[38;5;124m\"\u001b[39m\u001b[38;5;124mlocalhost:27017\u001b[39m\u001b[38;5;124m\"\u001b[39m)\n\u001b[1;32m     15\u001b[0m db \u001b[38;5;241m=\u001b[39m client\u001b[38;5;241m.\u001b[39mDLSP\n\u001b[1;32m     17\u001b[0m TCP_IP \u001b[38;5;241m=\u001b[39m \u001b[38;5;124m'\u001b[39m\u001b[38;5;124m192.168.0.155\u001b[39m\u001b[38;5;124m'\u001b[39m\n",
            "\u001b[0;31mNameError\u001b[0m: name 'MongoClient' is not defined"
          ]
        }
      ],
      "source": [
        "# benötigte Bibliotheken importieren:\n",
        "import socket\n",
        "import parameters\n",
        "from pymongo import MongoClient\n",
        "\n",
        "# Alle Variablen deklarieren:\n",
        "data_string = \"\"\n",
        "accelx_data = []\n",
        "accely_data = []\n",
        "accelz_data = []\n",
        "timestamp = []\n",
        "data_list = []\n",
        "\n",
        "# Für Datenübertragung TCP server und Mongo DB initialisieren:\n",
        "#mongoclient_id = \"localhost:27017\"\n",
        "client = MongoClient(mongoclient_id)\n",
        "#client = MongoClient(\"localhost:27017\")\n",
        "\n",
        "db = client.DLSP\n",
        "\n",
        "TCP_IP = '192.168.0.155'\n",
        "TCP_PORT = 8000\n",
        "BUFFER_SIZE = 15000\n",
        "print(\"Versuche Verbindung aufzubauen\")\n",
        "s = socket.socket(socket.AF_INET, socket.SOCK_STREAM)\n",
        "s.bind((TCP_IP, TCP_PORT))\n",
        "print(\"Warte auf ESP\")\n",
        "s.listen(1)\n",
        "conn, addr = s.accept()\n",
        "print('ESP verbunden\\nAdresse:', addr)\n",
        "\n",
        "# Daten vorverarbeiten - Prüfen ob Beschleunigungsdaten im richtigen Format und vollständig übermittelt wurden:\n",
        "# Defekte Datensätze herausfiltern. Fehlende Zeitstempel erzeugen:\n",
        "while True:\n",
        "    data = conn.recv(BUFFER_SIZE)\n",
        "    string_received_data = data.decode()\n",
        "    data_list.append(string_received_data)\n",
        "    if not data:\n",
        "        break\n",
        "    if len(data_list) > 199:\n",
        "        for record in data_list:\n",
        "            data_string = record.replace(' ', '').replace('(', '')\n",
        "            data_string = list(data_string.split(')'))\n",
        "\n",
        "            for index in range(len(data_string)):\n",
        "                data_record = list(data_string[index].split(\",\"))\n",
        "\n",
        "                if len(data_record) == 7:\n",
        "                    time_record = data_record\n",
        "\n",
        "                elif len(data_record) == 3:\n",
        "                    if 2 < len(data_record[0]) < 9 and 2 < len(data_record[1]) < 9 and 2 < len(data_record[2]) < 9:\n",
        "                        accelx_data.append(data_record[0])\n",
        "                        accely_data.append(data_record[1])\n",
        "                        accelz_data.append(data_record[2])\n",
        "                        timestamp.append(time_record[:])\n",
        "                        time_record[6] = str(int(time_record[6]) + 10)\n",
        "                        if int(time_record[6]) > 999:\n",
        "                            time_record[5] = str(int(time_record[5]) + 1)\n",
        "                            time_record[6] = str(int(time_record[6]) - 1000)\n",
        "                            if int(time_record[5]) > 59:\n",
        "                                time_record[4] = str(int(time_record[5]) + 1)\n",
        "                                time_record[5] = str(int(time_record[6]) - 60)\n",
        "                                if int(time_record[4]) > 59:\n",
        "                                    time_record[3] = str(int(time_record[5]) + 1)\n",
        "                                    time_record[4] = str(int(time_record[6]) - 60)\n",
        "                                    if int(time_record[3]) > 23:\n",
        "                                        time_record[2] = str(int(time_record[5]) + 1)\n",
        "                                        time_record[3] = str(int(time_record[6]) - 24)\n",
        "        data_list.clear()\n",
        "        print(\"Test\")\n",
        "        db.Accel.insert_many([{'time': timestamp[i], 'Ax': accelx_data[i], 'Ay': accely_data[i], 'Az': accelz_data[i]} for i in range(len(accelx_data))])\n",
        "        accelx_data.clear()\n",
        "        accely_data.clear()\n",
        "        accelz_data.clear()\n",
        "        timestamp.clear()\n",
        "conn.close()\n",
        "print(\"TCP Server beendet\")\n",
        "client.close()\n",
        "print(\"Verbindung zu MongoDB beendet\")"
      ]
    }
  ],
  "metadata": {
    "kernelspec": {
      "display_name": "Python (Pyodide)",
      "language": "python",
      "name": "python"
    },
    "language_info": {
      "codemirror_mode": {
        "name": "python",
        "version": 3
      },
      "file_extension": ".py",
      "mimetype": "text/x-python",
      "name": "python",
      "nbconvert_exporter": "python",
      "pygments_lexer": "ipython3",
      "version": "3.8"
    }
  },
  "nbformat": 4,
  "nbformat_minor": 5
}
